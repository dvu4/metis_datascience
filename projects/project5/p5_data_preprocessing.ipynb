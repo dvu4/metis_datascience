{
 "cells": [
  {
   "cell_type": "markdown",
   "metadata": {},
   "source": [
    "# Notebook Overview\n",
    "\n",
    "In this notebook, I will construct:\n",
    "\n",
    "\n",
    "## Features\n",
    "\n",
    "- ***Extract vegetation feature***\n",
    "    - calculate the vegetation density around the outage location based on k-d tree \n",
    "\n",
    "\n",
    "\n",
    "- ***Extract spatial feature***\n",
    "    - Divide bounded region into equal size grid\n",
    "\n",
    "\n",
    "\n",
    "## Target\n",
    "\n",
    "- ***Extract the outages***\n",
    "    - Count the outages every 2 hours\n"
   ]
  },
  {
   "cell_type": "code",
   "execution_count": 1,
   "metadata": {},
   "outputs": [],
   "source": [
    "#!pip install geopy\n",
    "import os\n",
    "import pickle\n",
    "import pandas as pd\n",
    "import numpy as np\n",
    "import datetime\n",
    "import math\n",
    "import matplotlib.pyplot as plt\n",
    "import seaborn as sns\n",
    "\n",
    "from scipy import spatial\n",
    "\n",
    "%matplotlib inline\n",
    "plt.style.use('seaborn-poster')"
   ]
  },
  {
   "cell_type": "code",
   "execution_count": 2,
   "metadata": {},
   "outputs": [],
   "source": [
    "# Load library"
   ]
  },
  {
   "cell_type": "markdown",
   "metadata": {},
   "source": [
    "# Helper functions"
   ]
  },
  {
   "cell_type": "code",
   "execution_count": 3,
   "metadata": {},
   "outputs": [],
   "source": [
    "def to_Cartesian(lat, lon):\n",
    "    '''\n",
    "    function to convert latitude and longitude to 3D cartesian coordinates\n",
    "    '''\n",
    "    R = 6371 # radius of the Earth in kilometers\n",
    "\n",
    "    x = R * math.cos(lat) * math.cos(lon)\n",
    "    y = R * math.cos(lat) * math.sin(lon)\n",
    "    z = R * math.sin(lat)\n",
    "    return x, y, z\n",
    "\n",
    "def deg2rad(degree):\n",
    "    '''\n",
    "    function to convert degree to radian\n",
    "    '''\n",
    "    rad = degree * 2*np.pi / 360\n",
    "    return rad\n",
    "\n",
    "def rad2deg(rad):\n",
    "    '''\n",
    "    function to convert radian to degree\n",
    "    '''\n",
    "    degree = rad/2/np.pi * 360\n",
    "    return degree\n",
    "\n",
    "def distToKM(x):\n",
    "    '''\n",
    "    function to convert cartesian distance to real distance in km\n",
    "    '''\n",
    "    R = 6371 # earth radius\n",
    "    gamma = 2*np.arcsin(deg2rad(x/(2*R))) # compute the angle of the isosceles triangle\n",
    "    dist = 2*R*math.sin(gamma/2) # compute the side of the triangle\n",
    "    return dist\n",
    "\n",
    "def kmToDIST(x):\n",
    "    '''\n",
    "    function to convert real distance in km to cartesian distance \n",
    "    '''\n",
    "    R = 6371 # earth radius\n",
    "    gamma = 2*np.arcsin(x/2./R) \n",
    "    \n",
    "    dist = 2*R*rad2deg(sin(gamma / 2.))\n",
    "    return dist"
   ]
  },
  {
   "cell_type": "markdown",
   "metadata": {},
   "source": [
    "This function plot the correlation matrix "
   ]
  },
  {
   "cell_type": "code",
   "execution_count": 4,
   "metadata": {},
   "outputs": [],
   "source": [
    "# plot the correlation matrix\n",
    "def diagonal_correlation_matrix(corr):\n",
    "    mask = np.zeros_like(corr, dtype=np.bool)\n",
    "    mask[np.triu_indices_from(mask)] = True\n",
    "\n",
    "    # Set up the matplotlib figure\n",
    "    f, ax = plt.subplots(figsize=(11, 9))\n",
    "\n",
    "    # Generate a custom diverging colormap\n",
    "    cmap = sns.diverging_palette(220, 10, as_cmap=True)\n",
    "\n",
    "    # Draw the heatmap with the mask and correct aspect ratio\n",
    "    sns.heatmap(corr, mask=mask, cmap=cmap, vmax=.3, center=0,\n",
    "                square=True, linewidths=.5, cbar_kws={\"shrink\": .5})"
   ]
  },
  {
   "cell_type": "markdown",
   "metadata": {},
   "source": [
    "This function divides the spatial grid into smaller equal grids, we can tune the parameter `stepsize` (i.e size of small grid)"
   ]
  },
  {
   "cell_type": "code",
   "execution_count": 5,
   "metadata": {},
   "outputs": [],
   "source": [
    "import shapely.geometry\n",
    "import pyproj\n",
    "\n",
    "# divide geographical region into equal sized grid and retrieving indexing position\n",
    "def divide_area(north_west, south_east):\n",
    "\n",
    "    # Set up projections\n",
    "    p_ll = pyproj.Proj(init='epsg:4326')\n",
    "    p_mt = pyproj.Proj(init='epsg:3857') # metric; same as EPSG:900913 ; 'epsg:3857' for Europe\n",
    "\n",
    "    # Create corners of rectangle to be transformed to a grid\n",
    "    nw = shapely.geometry.Point(north_west) # lon, lat\n",
    "    se = shapely.geometry.Point(south_east) # lon, lat\n",
    "\n",
    "\n",
    "    stepsize = 60000 # 60 km grid step size\n",
    "\n",
    "    # Project corners to target projection\n",
    "    s = pyproj.transform(p_ll, p_mt, nw.x, nw.y) # Transform NW point to 3857\n",
    "    e = pyproj.transform(p_ll, p_mt, se.x, se.y) # .. same for SE\n",
    "\n",
    "    # Iterate over 2D area\n",
    "    gridpoints = []\n",
    "    x = s[0]\n",
    "    while x < e[0]:\n",
    "        y = s[1]\n",
    "        while y < e[1]:\n",
    "            p = shapely.geometry.Point(pyproj.transform(p_mt, p_ll, x, y))\n",
    "            gridpoints.append(p)\n",
    "            y += stepsize\n",
    "        x += stepsize\n",
    "    \n",
    "    locationlist = [(p.y, p.x) for p in gridpoints]\n",
    "    \n",
    "    areas = list(zip( locationlist[0:3], locationlist[5:8])) + list(zip( locationlist[4:7], locationlist[9:12]))\n",
    "\n",
    "    #areas = dict(enumerate(areas, start=1))\n",
    "    areas = {'area ' + str(idx) : e for idx, e in enumerate(areas,1)} \n",
    "    return areas"
   ]
  },
  {
   "cell_type": "markdown",
   "metadata": {},
   "source": [
    "This function check if each lat/lon is within smaller equal grids and assigns a label to it."
   ]
  },
  {
   "cell_type": "code",
   "execution_count": 6,
   "metadata": {},
   "outputs": [],
   "source": [
    "# assign area to each lat/lon within that area\n",
    "def extract_areas(row, areas):\n",
    "    \n",
    "    lat, lon = row\n",
    "    for area, points in areas.items():\n",
    "\n",
    "        point1, point2 = points\n",
    "\n",
    "        max_lat, min_lat = max(point1[0], point2[0]), min(point1[0], point2[0])\n",
    "        max_lon, min_lon = max(point1[1], point2[1]), min(point1[1], point2[1])\n",
    "    \n",
    "        if (lat >=  min_lat) and (lat <= max_lat) and (lon >=  min_lon) and (lon <= max_lon):\n",
    "            return area"
   ]
  },
  {
   "cell_type": "code",
   "execution_count": null,
   "metadata": {},
   "outputs": [],
   "source": []
  },
  {
   "cell_type": "markdown",
   "metadata": {},
   "source": [
    "# Weather dataset"
   ]
  },
  {
   "cell_type": "code",
   "execution_count": 7,
   "metadata": {},
   "outputs": [
    {
     "data": {
      "text/html": [
       "<div>\n",
       "<style scoped>\n",
       "    .dataframe tbody tr th:only-of-type {\n",
       "        vertical-align: middle;\n",
       "    }\n",
       "\n",
       "    .dataframe tbody tr th {\n",
       "        vertical-align: top;\n",
       "    }\n",
       "\n",
       "    .dataframe thead th {\n",
       "        text-align: right;\n",
       "    }\n",
       "</style>\n",
       "<table border=\"1\" class=\"dataframe\">\n",
       "  <thead>\n",
       "    <tr style=\"text-align: right;\">\n",
       "      <th></th>\n",
       "      <th>time</th>\n",
       "      <th>lat</th>\n",
       "      <th>lon</th>\n",
       "      <th>alt_m</th>\n",
       "      <th>refl</th>\n",
       "      <th>velocity</th>\n",
       "    </tr>\n",
       "  </thead>\n",
       "  <tbody>\n",
       "    <tr>\n",
       "      <th>0</th>\n",
       "      <td>2011-01-18 14:02:04</td>\n",
       "      <td>41.859160</td>\n",
       "      <td>-74.141444</td>\n",
       "      <td>2435.0</td>\n",
       "      <td>10.939068</td>\n",
       "      <td>-12.581346</td>\n",
       "    </tr>\n",
       "    <tr>\n",
       "      <th>1</th>\n",
       "      <td>2011-01-19 08:02:36</td>\n",
       "      <td>41.928513</td>\n",
       "      <td>-74.047238</td>\n",
       "      <td>2435.0</td>\n",
       "      <td>0.000000</td>\n",
       "      <td>0.000000</td>\n",
       "    </tr>\n",
       "    <tr>\n",
       "      <th>2</th>\n",
       "      <td>2011-01-19 11:59:32</td>\n",
       "      <td>41.814751</td>\n",
       "      <td>-74.085651</td>\n",
       "      <td>2435.0</td>\n",
       "      <td>12.096394</td>\n",
       "      <td>-1.115756</td>\n",
       "    </tr>\n",
       "  </tbody>\n",
       "</table>\n",
       "</div>"
      ],
      "text/plain": [
       "                 time        lat        lon   alt_m       refl   velocity\n",
       "0 2011-01-18 14:02:04  41.859160 -74.141444  2435.0  10.939068 -12.581346\n",
       "1 2011-01-19 08:02:36  41.928513 -74.047238  2435.0   0.000000   0.000000\n",
       "2 2011-01-19 11:59:32  41.814751 -74.085651  2435.0  12.096394  -1.115756"
      ]
     },
     "execution_count": 7,
     "metadata": {},
     "output_type": "execute_result"
    }
   ],
   "source": [
    "df = pd.read_pickle('./data/reflectivity_velocity.pkl')\n",
    "df.head(n=3)"
   ]
  },
  {
   "cell_type": "code",
   "execution_count": 8,
   "metadata": {},
   "outputs": [
    {
     "data": {
      "text/plain": [
       "(array([-5.,  0.,  5., 10., 15., 20., 25.]),\n",
       " <a list of 7 Text xticklabel objects>)"
      ]
     },
     "execution_count": 8,
     "metadata": {},
     "output_type": "execute_result"
    },
    {
     "data": {
      "image/png": "[encoded data removed]",
      "text/plain": [
       "<Figure size 432x288 with 1 Axes>"
      ]
     },
     "metadata": {
      "needs_background": "light"
     },
     "output_type": "display_data"
    }
   ],
   "source": [
    "df['hour'] = df['time'].apply(lambda x :  x.hour)\n",
    "df1 = df.groupby(['hour'])['time']\n",
    "df1 = df1.describe()['count']\n",
    "df1 = df1.reset_index()\n",
    "df1 = df1.sort_values('hour', ascending=True)\n",
    "plt.plot(df1['hour'], df1['count'])\n",
    "plt.xlabel('Hour')\n",
    "plt.ylabel('Outages')\n",
    "plt.grid()\n",
    "plt.xticks(rotation='vertical')"
   ]
  },
  {
   "cell_type": "code",
   "execution_count": 9,
   "metadata": {},
   "outputs": [
    {
     "data": {
      "text/plain": [
       "(array([ 0. ,  2.5,  5. ,  7.5, 10. , 12.5, 15. ]),\n",
       " <a list of 7 Text xticklabel objects>)"
      ]
     },
     "execution_count": 9,
     "metadata": {},
     "output_type": "execute_result"
    },
    {
     "data": {
      "image/png": "[encoded data removed]",
      "text/plain": [
       "<Figure size 432x288 with 1 Axes>"
      ]
     },
     "metadata": {
      "needs_background": "light"
     },
     "output_type": "display_data"
    }
   ],
   "source": [
    "df['month'] = df['time'].apply(lambda x :  x.month)\n",
    "df['month'] = df['month'].astype(int)\n",
    "df2 = df.groupby(['month'])['time']\n",
    "df2 = df2.describe()['count']\n",
    "df2 = df2.reset_index()\n",
    "df2 = df2.sort_values('month', ascending=True)\n",
    "plt.plot(df2['month'], df2['count'])\n",
    "plt.xlabel('Month')\n",
    "plt.ylabel('Outages')\n",
    "plt.grid()\n",
    "plt.xticks(rotation='vertical')"
   ]
  },
  {
   "cell_type": "code",
   "execution_count": null,
   "metadata": {},
   "outputs": [],
   "source": []
  },
  {
   "cell_type": "markdown",
   "metadata": {},
   "source": [
    "# Extract vegetation feature"
   ]
  },
  {
   "cell_type": "code",
   "execution_count": 10,
   "metadata": {},
   "outputs": [
    {
     "name": "stdout",
     "output_type": "stream",
     "text": [
      "['OBJECTID', 'coverage_percentage', 'longitude', 'latitude']\n",
      "['OBJECTID' 'coverage_percentage' 'longitude' 'latitude']\n"
     ]
    },
    {
     "data": {
      "text/html": [
       "<div>\n",
       "<style scoped>\n",
       "    .dataframe tbody tr th:only-of-type {\n",
       "        vertical-align: middle;\n",
       "    }\n",
       "\n",
       "    .dataframe tbody tr th {\n",
       "        vertical-align: top;\n",
       "    }\n",
       "\n",
       "    .dataframe thead th {\n",
       "        text-align: right;\n",
       "    }\n",
       "</style>\n",
       "<table border=\"1\" class=\"dataframe\">\n",
       "  <thead>\n",
       "    <tr style=\"text-align: right;\">\n",
       "      <th></th>\n",
       "      <th>OBJECTID</th>\n",
       "      <th>coverage_percentage</th>\n",
       "      <th>longitude</th>\n",
       "      <th>latitude</th>\n",
       "    </tr>\n",
       "  </thead>\n",
       "  <tbody>\n",
       "    <tr>\n",
       "      <th>0</th>\n",
       "      <td>1</td>\n",
       "      <td>43</td>\n",
       "      <td>-74.737386</td>\n",
       "      <td>42.617409</td>\n",
       "    </tr>\n",
       "    <tr>\n",
       "      <th>1</th>\n",
       "      <td>2</td>\n",
       "      <td>24</td>\n",
       "      <td>-74.712299</td>\n",
       "      <td>42.617409</td>\n",
       "    </tr>\n",
       "    <tr>\n",
       "      <th>2</th>\n",
       "      <td>3</td>\n",
       "      <td>45</td>\n",
       "      <td>-74.687212</td>\n",
       "      <td>42.617409</td>\n",
       "    </tr>\n",
       "  </tbody>\n",
       "</table>\n",
       "</div>"
      ],
      "text/plain": [
       "   OBJECTID  coverage_percentage  longitude   latitude\n",
       "0         1                   43 -74.737386  42.617409\n",
       "1         2                   24 -74.712299  42.617409\n",
       "2         3                   45 -74.687212  42.617409"
      ]
     },
     "execution_count": 10,
     "metadata": {},
     "output_type": "execute_result"
    }
   ],
   "source": [
    "filename = './data/nlcd2011_usfs_percent_tree_cover_2km.txt'\n",
    "\n",
    "df_tree =  pd.read_csv(filename, delimiter=\",\")\n",
    "\n",
    "df_tree = df_tree.rename(columns={'X': 'longitude', 'Y': 'latitude', 'grid_code': 'coverage_percentage'})\n",
    "\n",
    "print(df_tree.columns.tolist())\n",
    "print(df_tree.columns.values)\n",
    "\n",
    "df_tree.head(n=3)"
   ]
  },
  {
   "cell_type": "markdown",
   "metadata": {},
   "source": [
    "## KD-tree to find the closest points from a reference point in a group (Use geo-coordinates and real distances)\n",
    "\n",
    "\n",
    "\n",
    "We use K-D Tree to query points by using the real distance between two points on the earth (instead of the Euclidean distance). \n",
    "\n",
    "- http://qingkaikong.blogspot.com/2017/12/use-k-d-tree-to-query-points-part-2-use.html\n",
    "\n",
    "- https://github.com/qingkaikong/blog/blob/master/2017_33_kdtree_2_real_distance/kdtree-real-distance.ipynb\n",
    "\n",
    "\n",
    "<img src='./image/kdtree-real-distance.png'>"
   ]
  },
  {
   "cell_type": "code",
   "execution_count": 11,
   "metadata": {},
   "outputs": [],
   "source": [
    "def aggregate_tree_coverage(df_tree, lat_ref, lon_ref , n_closest=10):\n",
    "    lats_1d = df_tree['latitude'].values\n",
    "    lons_1d = df_tree['longitude'].values\n",
    "\n",
    "    # convert the grid points and reference points to cartesian coordinates\n",
    "    x, y, z = zip(*map(to_Cartesian, lats_1d, lons_1d))\n",
    "    x_ref, y_ref, z_ref = to_Cartesian(lat_ref, lon_ref)\n",
    "    \n",
    "    # create the KD-tree using the 3D cartesian coordinates\n",
    "    coordinates = list(zip(x, y, z))\n",
    "    tree = spatial.cKDTree(coordinates)\n",
    "\n",
    "    # get the cartesian distances from the 10 closest points\n",
    "    dist, ix = tree.query((x_ref, y_ref, z_ref), n_closest)\n",
    "\n",
    "    # print out the real distances in km\n",
    "    #print(list(map(distToKM, dist)))\n",
    "    \n",
    "    avg_coverage = df_tree.loc[ix]['coverage_percentage'].mean()\n",
    "    #avg_coverage = df_tree['coverage_percentage'].iloc[ix].mean()\n",
    "    #print(avg_coverage)\n",
    "    \n",
    "    return avg_coverage"
   ]
  },
  {
   "cell_type": "code",
   "execution_count": 12,
   "metadata": {},
   "outputs": [],
   "source": [
    "df['coverage_percentage'] = df[['lat','lon']].apply(lambda x: aggregate_tree_coverage(df_tree, \n",
    "                                                                                         x['lat'], \n",
    "                                                                                         x['lon'], \n",
    "                                                                                         n_closest=20), axis=1)"
   ]
  },
  {
   "cell_type": "markdown",
   "metadata": {},
   "source": [
    "## Save dataframe into pickle"
   ]
  },
  {
   "cell_type": "code",
   "execution_count": 13,
   "metadata": {},
   "outputs": [],
   "source": [
    "df.to_pickle('./data/composite_df.pkl')"
   ]
  },
  {
   "cell_type": "code",
   "execution_count": null,
   "metadata": {},
   "outputs": [],
   "source": []
  },
  {
   "cell_type": "markdown",
   "metadata": {},
   "source": [
    "# Extract Spatial feature"
   ]
  },
  {
   "cell_type": "code",
   "execution_count": 14,
   "metadata": {},
   "outputs": [
    {
     "name": "stdout",
     "output_type": "stream",
     "text": [
      "Data is collected from 2011-01-18 14:02:04 to 2012-12-30 17:55:25\n",
      "Dimension of data frame (3472, 9)\n"
     ]
    },
    {
     "data": {
      "text/html": [
       "<div>\n",
       "<style scoped>\n",
       "    .dataframe tbody tr th:only-of-type {\n",
       "        vertical-align: middle;\n",
       "    }\n",
       "\n",
       "    .dataframe tbody tr th {\n",
       "        vertical-align: top;\n",
       "    }\n",
       "\n",
       "    .dataframe thead th {\n",
       "        text-align: right;\n",
       "    }\n",
       "</style>\n",
       "<table border=\"1\" class=\"dataframe\">\n",
       "  <thead>\n",
       "    <tr style=\"text-align: right;\">\n",
       "      <th></th>\n",
       "      <th>time</th>\n",
       "      <th>lat</th>\n",
       "      <th>lon</th>\n",
       "      <th>alt_m</th>\n",
       "      <th>refl</th>\n",
       "      <th>velocity</th>\n",
       "      <th>hour</th>\n",
       "      <th>month</th>\n",
       "      <th>coverage_percentage</th>\n",
       "    </tr>\n",
       "  </thead>\n",
       "  <tbody>\n",
       "    <tr>\n",
       "      <th>3469</th>\n",
       "      <td>2012-12-27 12:01:05</td>\n",
       "      <td>41.931032</td>\n",
       "      <td>-73.953671</td>\n",
       "      <td>2439.0</td>\n",
       "      <td>3.682029</td>\n",
       "      <td>-7.616701</td>\n",
       "      <td>12</td>\n",
       "      <td>12</td>\n",
       "      <td>36.10</td>\n",
       "    </tr>\n",
       "    <tr>\n",
       "      <th>3470</th>\n",
       "      <td>2012-12-30 10:03:08</td>\n",
       "      <td>42.205727</td>\n",
       "      <td>-73.890111</td>\n",
       "      <td>2439.0</td>\n",
       "      <td>0.000000</td>\n",
       "      <td>0.000000</td>\n",
       "      <td>10</td>\n",
       "      <td>12</td>\n",
       "      <td>62.60</td>\n",
       "    </tr>\n",
       "    <tr>\n",
       "      <th>3471</th>\n",
       "      <td>2012-12-30 17:55:25</td>\n",
       "      <td>41.752131</td>\n",
       "      <td>-73.848375</td>\n",
       "      <td>2439.0</td>\n",
       "      <td>0.000000</td>\n",
       "      <td>0.000000</td>\n",
       "      <td>17</td>\n",
       "      <td>12</td>\n",
       "      <td>54.85</td>\n",
       "    </tr>\n",
       "  </tbody>\n",
       "</table>\n",
       "</div>"
      ],
      "text/plain": [
       "                    time        lat        lon   alt_m      refl  velocity  \\\n",
       "3469 2012-12-27 12:01:05  41.931032 -73.953671  2439.0  3.682029 -7.616701   \n",
       "3470 2012-12-30 10:03:08  42.205727 -73.890111  2439.0  0.000000  0.000000   \n",
       "3471 2012-12-30 17:55:25  41.752131 -73.848375  2439.0  0.000000  0.000000   \n",
       "\n",
       "      hour  month  coverage_percentage  \n",
       "3469    12     12                36.10  \n",
       "3470    10     12                62.60  \n",
       "3471    17     12                54.85  "
      ]
     },
     "execution_count": 14,
     "metadata": {},
     "output_type": "execute_result"
    }
   ],
   "source": [
    "df = pd.read_pickle('./data/composite_df.pkl')\n",
    "\n",
    "#check the time duration\n",
    "print(f'Data is collected from {df.time.min()} to {df.time.max()}')\n",
    "\n",
    "print(f'Dimension of data frame {df.shape}')\n",
    "\n",
    "df.tail(n=3)"
   ]
  },
  {
   "cell_type": "markdown",
   "metadata": {},
   "source": [
    "## Validate latitude and longitude "
   ]
  },
  {
   "cell_type": "code",
   "execution_count": 15,
   "metadata": {},
   "outputs": [
    {
     "name": "stdout",
     "output_type": "stream",
     "text": [
      "Dimension of data frame (3452, 10)\n"
     ]
    }
   ],
   "source": [
    "def validate_lat_lon(lat, lon, lat_median, lon_median):\n",
    "    if lat >= -90 and lat <= 90 and lon >= -180 and lon <= 180 and \\\n",
    "    abs(lat-lat_median < 10) and abs(lon-lon_median < 10):\n",
    "        return 'Valid'\n",
    "    else:\n",
    "        return 'Invalid'\n",
    "    \n",
    "# check valid lat and lon\n",
    "lat_median = np.median(df.lat)\n",
    "lon_median = np.median(df.lon)\n",
    "\n",
    "df['validLatLon'] = df.apply(lambda x : validate_lat_lon(x['lat'], x['lon'], lat_median, lon_median), axis=1)\n",
    "\n",
    "# remove invalid lat and lon\n",
    "df = df[df['validLatLon'] == 'Valid']\n",
    "print(f'Dimension of data frame {df.shape}')"
   ]
  },
  {
   "cell_type": "markdown",
   "metadata": {},
   "source": [
    "## Divide geographical region into equal sized grid"
   ]
  },
  {
   "cell_type": "markdown",
   "metadata": {},
   "source": [
    "### Method 1"
   ]
  },
  {
   "cell_type": "code",
   "execution_count": 16,
   "metadata": {},
   "outputs": [
    {
     "name": "stderr",
     "output_type": "stream",
     "text": [
      "/Users/ducvu/anaconda3/envs/metis/lib/python3.6/site-packages/ipykernel_launcher.py:11: FutureWarning: `Series.plot()` should not be called with positional arguments, only keyword arguments. The order of positional arguments will change in the future. Use `Series.plot(kind='bar')` instead of `Series.plot('bar',)`.\n",
      "  # This is added back by InteractiveShellApp.init_path()\n"
     ]
    },
    {
     "data": {
      "text/plain": [
       "<matplotlib.axes._subplots.AxesSubplot at 0x1a250f7630>"
      ]
     },
     "execution_count": 16,
     "metadata": {},
     "output_type": "execute_result"
    },
    {
     "data": {
      "image/png": "[encoded data removed]",
      "text/plain": [
       "<Figure size 432x288 with 1 Axes>"
      ]
     },
     "metadata": {
      "needs_background": "light"
     },
     "output_type": "display_data"
    }
   ],
   "source": [
    "topLeft = (42.641400, -74.746500)\n",
    "topRight = (42.641400, -73.425269)\n",
    "bottomLeft = (41.196158, -74.746500)\n",
    "bottomRight = (41.196158, -73.425269)\n",
    "\n",
    "cols = np.linspace(bottomLeft[1], bottomRight[1], num=4)\n",
    "rows = np.linspace(bottomLeft[0], topLeft[0], num=5)\n",
    "df['col'] = np.searchsorted(cols, df['lon'])\n",
    "df['row'] = np.searchsorted(rows, df['lat'])\n",
    "df['area'] = list(zip(df['row'], df['col']))\n",
    "df['area'].value_counts().plot('bar')"
   ]
  },
  {
   "cell_type": "code",
   "execution_count": 17,
   "metadata": {},
   "outputs": [],
   "source": [
    "df = df.drop(['validLatLon', 'col', 'row'], axis=1)"
   ]
  },
  {
   "cell_type": "markdown",
   "metadata": {},
   "source": [
    "### Method 2"
   ]
  },
  {
   "cell_type": "code",
   "execution_count": 18,
   "metadata": {
    "scrolled": false
   },
   "outputs": [
    {
     "name": "stderr",
     "output_type": "stream",
     "text": [
      "/Users/ducvu/anaconda3/envs/metis/lib/python3.6/site-packages/ipykernel_launcher.py:9: FutureWarning: `Series.plot()` should not be called with positional arguments, only keyword arguments. The order of positional arguments will change in the future. Use `Series.plot(kind='bar')` instead of `Series.plot('bar',)`.\n",
      "  if __name__ == '__main__':\n"
     ]
    },
    {
     "data": {
      "text/plain": [
       "<matplotlib.axes._subplots.AxesSubplot at 0x1a2512f2b0>"
      ]
     },
     "execution_count": 18,
     "metadata": {},
     "output_type": "execute_result"
    },
    {
     "data": {
      "image/png": "[encoded data removed]",
      "text/plain": [
       "<Figure size 432x288 with 1 Axes>"
      ]
     },
     "metadata": {
      "needs_background": "light"
     },
     "output_type": "display_data"
    }
   ],
   "source": [
    "# project location coordinates -  Central Hudson Service Territory\n",
    "north_west = (-74.746499999999969, 41.196157712000058 )\n",
    "south_east = (-73.425268798999980, 42.641400000000033 )    \n",
    "\n",
    "# divide whole area into smaller area\n",
    "areas = divide_area(north_west, south_east)\n",
    "\n",
    "df['areas'] = df[['lat', 'lon']].apply(lambda row: extract_areas(row, areas), axis=1)\n",
    "df['areas'].value_counts().plot('bar')"
   ]
  },
  {
   "cell_type": "code",
   "execution_count": null,
   "metadata": {},
   "outputs": [],
   "source": []
  },
  {
   "cell_type": "markdown",
   "metadata": {},
   "source": [
    "# Extract the number of outages\n",
    "\n",
    "\n",
    "## Count the number of blackout every 2 hours and join with original dataframe based on the timestamp "
   ]
  },
  {
   "cell_type": "code",
   "execution_count": 19,
   "metadata": {},
   "outputs": [
    {
     "name": "stdout",
     "output_type": "stream",
     "text": [
      "Data is collected from 2011-01-18 14:36:00 to 2016-12-18 19:53:12\n",
      "Dimension of data frame (4323, 36)\n"
     ]
    }
   ],
   "source": [
    "weather = pd.read_pickle('./data/caidi_weather_outage.pkl')\n",
    "weather = weather.rename(columns = {'Receive Datetime' : 'time', 'LONGITUDE' : 'lon', 'LATITUDE' : 'lat'})\n",
    "\n",
    "                                                                                  \n",
    "#check the time duration\n",
    "print(f'Data is collected from {weather.time.min()} to {weather.time.max()}')\n",
    "\n",
    "#check the dimension of dataset\n",
    "print(f'Dimension of data frame {weather.shape}')"
   ]
  },
  {
   "cell_type": "code",
   "execution_count": 20,
   "metadata": {},
   "outputs": [
    {
     "name": "stderr",
     "output_type": "stream",
     "text": [
      "/Users/ducvu/anaconda3/envs/metis/lib/python3.6/site-packages/ipykernel_launcher.py:9: FutureWarning: `Series.plot()` should not be called with positional arguments, only keyword arguments. The order of positional arguments will change in the future. Use `Series.plot(kind='bar')` instead of `Series.plot('bar',)`.\n",
      "  if __name__ == '__main__':\n"
     ]
    },
    {
     "data": {
      "text/plain": [
       "<matplotlib.axes._subplots.AxesSubplot at 0x1a24dbd390>"
      ]
     },
     "execution_count": 20,
     "metadata": {},
     "output_type": "execute_result"
    },
    {
     "data": {
      "image/png": "[encoded data removed]",
      "text/plain": [
       "<Figure size 432x288 with 1 Axes>"
      ]
     },
     "metadata": {
      "needs_background": "light"
     },
     "output_type": "display_data"
    }
   ],
   "source": [
    "# project location coordinates -  Central Hudson Service Territory\n",
    "north_west = (-74.746499999999969, 41.196157712000058 )\n",
    "south_east = (-73.425268798999980, 42.641400000000033 )    \n",
    "\n",
    "# divide whole area into smaller area\n",
    "areas = divide_area(north_west, south_east)\n",
    "\n",
    "weather['areas'] = weather[['lat', 'lon']].apply(lambda row: extract_areas(row, areas), axis=1)\n",
    "weather['areas'].value_counts().plot('bar')"
   ]
  },
  {
   "cell_type": "code",
   "execution_count": 21,
   "metadata": {},
   "outputs": [
    {
     "data": {
      "text/html": [
       "<div>\n",
       "<style scoped>\n",
       "    .dataframe tbody tr th:only-of-type {\n",
       "        vertical-align: middle;\n",
       "    }\n",
       "\n",
       "    .dataframe tbody tr th {\n",
       "        vertical-align: top;\n",
       "    }\n",
       "\n",
       "    .dataframe thead th {\n",
       "        text-align: right;\n",
       "    }\n",
       "</style>\n",
       "<table border=\"1\" class=\"dataframe\">\n",
       "  <thead>\n",
       "    <tr style=\"text-align: right;\">\n",
       "      <th></th>\n",
       "      <th>time</th>\n",
       "      <th>areas</th>\n",
       "      <th>outage</th>\n",
       "    </tr>\n",
       "  </thead>\n",
       "  <tbody>\n",
       "    <tr>\n",
       "      <th>0</th>\n",
       "      <td>2011-01-18 14:00:00</td>\n",
       "      <td>area 5</td>\n",
       "      <td>1</td>\n",
       "    </tr>\n",
       "    <tr>\n",
       "      <th>1</th>\n",
       "      <td>2011-01-19 08:00:00</td>\n",
       "      <td>area 5</td>\n",
       "      <td>1</td>\n",
       "    </tr>\n",
       "    <tr>\n",
       "      <th>2</th>\n",
       "      <td>2011-01-19 12:00:00</td>\n",
       "      <td>area 5</td>\n",
       "      <td>1</td>\n",
       "    </tr>\n",
       "    <tr>\n",
       "      <th>3</th>\n",
       "      <td>2011-02-18 22:00:00</td>\n",
       "      <td>area 5</td>\n",
       "      <td>1</td>\n",
       "    </tr>\n",
       "    <tr>\n",
       "      <th>4</th>\n",
       "      <td>2011-02-19 02:00:00</td>\n",
       "      <td>area 5</td>\n",
       "      <td>1</td>\n",
       "    </tr>\n",
       "  </tbody>\n",
       "</table>\n",
       "</div>"
      ],
      "text/plain": [
       "                 time   areas  outage\n",
       "0 2011-01-18 14:00:00  area 5       1\n",
       "1 2011-01-19 08:00:00  area 5       1\n",
       "2 2011-01-19 12:00:00  area 5       1\n",
       "3 2011-02-18 22:00:00  area 5       1\n",
       "4 2011-02-19 02:00:00  area 5       1"
      ]
     },
     "execution_count": 21,
     "metadata": {},
     "output_type": "execute_result"
    }
   ],
   "source": [
    "df_weather = weather.groupby([pd.Grouper(key='time',freq='2H'),weather['areas']]).size().reset_index(name='outage')\n",
    "df_weather.head()"
   ]
  },
  {
   "cell_type": "markdown",
   "metadata": {},
   "source": [
    "## Merge outage number based on a timestamp within the interval of 2 hours\n",
    "\n",
    "\n",
    "Refer to :\n",
    "\n",
    "- https://stackoverflow.com/questions/34880539/pandas-merging-based-on-a-timestamp-which-do-not-match-exactly"
   ]
  },
  {
   "cell_type": "code",
   "execution_count": 22,
   "metadata": {},
   "outputs": [
    {
     "name": "stdout",
     "output_type": "stream",
     "text": [
      "Dimension of data frame (3126, 14)\n",
      "False\n",
      "The column names of data frame ['time_x', 'lat', 'lon', 'alt_m', 'refl', 'velocity', 'hour', 'month', 'coverage_percentage', 'area', 'areas', 'interval', 'time_y', 'outage']\n"
     ]
    }
   ],
   "source": [
    "import numpy as np\n",
    "\n",
    "# how close do sessions have to be to be considered equal? (in minutes)\n",
    "threshold = 120 # in minutes\n",
    "\n",
    "# half-threshold in nanoseconds\n",
    "threshold_ns = threshold * 60 * 1e9\n",
    "\n",
    "# compute \"interval\" to which each session belongs\n",
    "df['interval'] = pd.to_datetime(np.round(df['time'].astype(np.int64) / threshold_ns) * threshold_ns)\n",
    "df_weather['interval'] = pd.to_datetime(np.round(df_weather['time'].astype(np.int64) / threshold_ns) * threshold_ns)\n",
    "\n",
    "# join\n",
    "cols = [ 'areas', 'interval',]\n",
    "df_final = df.merge(df_weather, on=cols, how='inner')\n",
    "\n",
    "\n",
    "#check the dimension of dataset\n",
    "print(f'Dimension of data frame {df_final.shape}')\n",
    "\n",
    "\n",
    "# check if there is null value in dataframe\n",
    "print(df_final.isnull().values.any())\n",
    "\n",
    "\n",
    "# print name of all columns\n",
    "print(f'The column names of data frame {list(df_final.columns)}') \n",
    "\n",
    "\n",
    "df_final = df_final[['lat', 'lon', 'alt_m', 'refl', 'velocity', 'coverage_percentage', 'areas','outage']]"
   ]
  },
  {
   "cell_type": "code",
   "execution_count": 23,
   "metadata": {},
   "outputs": [
    {
     "data": {
      "text/html": [
       "<div>\n",
       "<style scoped>\n",
       "    .dataframe tbody tr th:only-of-type {\n",
       "        vertical-align: middle;\n",
       "    }\n",
       "\n",
       "    .dataframe tbody tr th {\n",
       "        vertical-align: top;\n",
       "    }\n",
       "\n",
       "    .dataframe thead th {\n",
       "        text-align: right;\n",
       "    }\n",
       "</style>\n",
       "<table border=\"1\" class=\"dataframe\">\n",
       "  <thead>\n",
       "    <tr style=\"text-align: right;\">\n",
       "      <th></th>\n",
       "      <th>lat</th>\n",
       "      <th>lon</th>\n",
       "      <th>alt_m</th>\n",
       "      <th>refl</th>\n",
       "      <th>velocity</th>\n",
       "      <th>coverage_percentage</th>\n",
       "      <th>areas</th>\n",
       "      <th>outage</th>\n",
       "    </tr>\n",
       "  </thead>\n",
       "  <tbody>\n",
       "    <tr>\n",
       "      <th>0</th>\n",
       "      <td>41.859160</td>\n",
       "      <td>-74.141444</td>\n",
       "      <td>2435.0</td>\n",
       "      <td>10.939068</td>\n",
       "      <td>-12.581346</td>\n",
       "      <td>66.70</td>\n",
       "      <td>area 5</td>\n",
       "      <td>1</td>\n",
       "    </tr>\n",
       "    <tr>\n",
       "      <th>1</th>\n",
       "      <td>41.928513</td>\n",
       "      <td>-74.047238</td>\n",
       "      <td>2435.0</td>\n",
       "      <td>0.000000</td>\n",
       "      <td>0.000000</td>\n",
       "      <td>54.20</td>\n",
       "      <td>area 5</td>\n",
       "      <td>1</td>\n",
       "    </tr>\n",
       "    <tr>\n",
       "      <th>2</th>\n",
       "      <td>41.814751</td>\n",
       "      <td>-74.085651</td>\n",
       "      <td>2435.0</td>\n",
       "      <td>12.096394</td>\n",
       "      <td>-1.115756</td>\n",
       "      <td>61.15</td>\n",
       "      <td>area 5</td>\n",
       "      <td>1</td>\n",
       "    </tr>\n",
       "    <tr>\n",
       "      <th>3</th>\n",
       "      <td>41.864159</td>\n",
       "      <td>-74.045296</td>\n",
       "      <td>2435.0</td>\n",
       "      <td>-3.150364</td>\n",
       "      <td>0.000000</td>\n",
       "      <td>65.85</td>\n",
       "      <td>area 5</td>\n",
       "      <td>1</td>\n",
       "    </tr>\n",
       "    <tr>\n",
       "      <th>4</th>\n",
       "      <td>42.041518</td>\n",
       "      <td>-73.932509</td>\n",
       "      <td>2435.0</td>\n",
       "      <td>0.000000</td>\n",
       "      <td>0.000000</td>\n",
       "      <td>46.70</td>\n",
       "      <td>area 6</td>\n",
       "      <td>1</td>\n",
       "    </tr>\n",
       "  </tbody>\n",
       "</table>\n",
       "</div>"
      ],
      "text/plain": [
       "         lat        lon   alt_m       refl   velocity  coverage_percentage  \\\n",
       "0  41.859160 -74.141444  2435.0  10.939068 -12.581346                66.70   \n",
       "1  41.928513 -74.047238  2435.0   0.000000   0.000000                54.20   \n",
       "2  41.814751 -74.085651  2435.0  12.096394  -1.115756                61.15   \n",
       "3  41.864159 -74.045296  2435.0  -3.150364   0.000000                65.85   \n",
       "4  42.041518 -73.932509  2435.0   0.000000   0.000000                46.70   \n",
       "\n",
       "    areas  outage  \n",
       "0  area 5       1  \n",
       "1  area 5       1  \n",
       "2  area 5       1  \n",
       "3  area 5       1  \n",
       "4  area 6       1  "
      ]
     },
     "execution_count": 23,
     "metadata": {},
     "output_type": "execute_result"
    }
   ],
   "source": [
    "df_final.head()"
   ]
  },
  {
   "cell_type": "code",
   "execution_count": null,
   "metadata": {},
   "outputs": [],
   "source": []
  },
  {
   "cell_type": "code",
   "execution_count": 24,
   "metadata": {},
   "outputs": [
    {
     "data": {
      "image/png": "[encoded data removed]",
      "text/plain": [
       "<Figure size 792x648 with 2 Axes>"
      ]
     },
     "metadata": {
      "needs_background": "light"
     },
     "output_type": "display_data"
    }
   ],
   "source": [
    "dataset = df[['lat', 'lon', 'alt_m', 'refl', 'velocity', 'coverage_percentage', 'areas']]\n",
    "\n",
    "corr = dataset.corr()\n",
    "#print(corr)\n",
    "diagonal_correlation_matrix(corr)"
   ]
  },
  {
   "cell_type": "markdown",
   "metadata": {},
   "source": [
    "# Save dataset "
   ]
  },
  {
   "cell_type": "code",
   "execution_count": 25,
   "metadata": {},
   "outputs": [],
   "source": [
    "df_final.to_csv('./data/data_input.csv')"
   ]
  },
  {
   "cell_type": "markdown",
   "metadata": {},
   "source": [
    "***Reference*** \n",
    "\n",
    "- ***geospatial***\n",
    "    - https://stackoverflow.com/questions/40342355/how-can-i-generate-a-regular-geographic-grid-using-python\n",
    "\n",
    "    - https://gis.stackexchange.com/questions/16374/creating-regular-polygon-grid-in-postgis\n",
    "\n",
    "    - https://gis.stackexchange.com/questions/48949/epsg-3857-or-4326-for-googlemaps-openstreetmap-and-leaflet\n",
    "\n",
    "    - https://gis.stackexchange.com/questions/292117/dividing-geographical-region-into-equal-sized-grid-and-retrieving-indexing-posit"
   ]
  }
 ],
 "metadata": {
  "kernelspec": {
   "display_name": "Python [conda env:metis] *",
   "language": "python",
   "name": "conda-env-metis-py"
  },
  "language_info": {
   "codemirror_mode": {
    "name": "ipython",
    "version": 3
   },
   "file_extension": ".py",
   "mimetype": "text/x-python",
   "name": "python",
   "nbconvert_exporter": "python",
   "pygments_lexer": "ipython3",
   "version": "3.6.7"
  },
  "toc": {
   "base_numbering": 1,
   "nav_menu": {},
   "number_sections": true,
   "sideBar": true,
   "skip_h1_title": false,
   "title_cell": "Table of Contents",
   "title_sidebar": "Contents",
   "toc_cell": false,
   "toc_position": {},
   "toc_section_display": true,
   "toc_window_display": false
  }
 },
 "nbformat": 4,
 "nbformat_minor": 2
}
